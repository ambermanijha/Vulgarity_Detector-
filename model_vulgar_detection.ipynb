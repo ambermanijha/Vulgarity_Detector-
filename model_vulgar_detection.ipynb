{
 "cells": [
  {
   "cell_type": "code",
   "execution_count": 1,
   "metadata": {},
   "outputs": [
    {
     "name": "stdout",
     "output_type": "stream",
     "text": [
      "Requirement already satisfied: torch in c:\\users\\amber\\onedrive\\desktop\\mishka\\handwriting_digit_system\\.conda\\lib\\site-packages (2.3.1)\n",
      "Requirement already satisfied: torchvision in c:\\users\\amber\\onedrive\\desktop\\mishka\\handwriting_digit_system\\.conda\\lib\\site-packages (0.18.1)\n",
      "Requirement already satisfied: filelock in c:\\users\\amber\\onedrive\\desktop\\mishka\\handwriting_digit_system\\.conda\\lib\\site-packages (from torch) (3.15.4)\n",
      "Requirement already satisfied: typing-extensions>=4.8.0 in c:\\users\\amber\\onedrive\\desktop\\mishka\\handwriting_digit_system\\.conda\\lib\\site-packages (from torch) (4.12.2)\n",
      "Requirement already satisfied: sympy in c:\\users\\amber\\onedrive\\desktop\\mishka\\handwriting_digit_system\\.conda\\lib\\site-packages (from torch) (1.13.0)\n",
      "Requirement already satisfied: networkx in c:\\users\\amber\\onedrive\\desktop\\mishka\\handwriting_digit_system\\.conda\\lib\\site-packages (from torch) (3.3)\n",
      "Requirement already satisfied: jinja2 in c:\\users\\amber\\onedrive\\desktop\\mishka\\handwriting_digit_system\\.conda\\lib\\site-packages (from torch) (3.1.4)\n",
      "Requirement already satisfied: fsspec in c:\\users\\amber\\onedrive\\desktop\\mishka\\handwriting_digit_system\\.conda\\lib\\site-packages (from torch) (2024.6.1)\n",
      "Requirement already satisfied: mkl<=2021.4.0,>=2021.1.1 in c:\\users\\amber\\onedrive\\desktop\\mishka\\handwriting_digit_system\\.conda\\lib\\site-packages (from torch) (2021.4.0)\n",
      "Requirement already satisfied: numpy in c:\\users\\amber\\onedrive\\desktop\\mishka\\handwriting_digit_system\\.conda\\lib\\site-packages (from torchvision) (1.26.4)\n",
      "Requirement already satisfied: pillow!=8.3.*,>=5.3.0 in c:\\users\\amber\\onedrive\\desktop\\mishka\\handwriting_digit_system\\.conda\\lib\\site-packages (from torchvision) (10.3.0)\n",
      "Requirement already satisfied: intel-openmp==2021.* in c:\\users\\amber\\onedrive\\desktop\\mishka\\handwriting_digit_system\\.conda\\lib\\site-packages (from mkl<=2021.4.0,>=2021.1.1->torch) (2021.4.0)\n",
      "Requirement already satisfied: tbb==2021.* in c:\\users\\amber\\onedrive\\desktop\\mishka\\handwriting_digit_system\\.conda\\lib\\site-packages (from mkl<=2021.4.0,>=2021.1.1->torch) (2021.11.0)\n",
      "Requirement already satisfied: MarkupSafe>=2.0 in c:\\users\\amber\\onedrive\\desktop\\mishka\\handwriting_digit_system\\.conda\\lib\\site-packages (from jinja2->torch) (2.1.5)\n",
      "Requirement already satisfied: mpmath<1.4,>=1.1.0 in c:\\users\\amber\\onedrive\\desktop\\mishka\\handwriting_digit_system\\.conda\\lib\\site-packages (from sympy->torch) (1.3.0)\n",
      "Note: you may need to restart the kernel to use updated packages.\n"
     ]
    }
   ],
   "source": [
    "pip install torch torchvision"
   ]
  },
  {
   "cell_type": "code",
   "execution_count": 2,
   "metadata": {},
   "outputs": [],
   "source": [
    "import torch\n",
    "import torchvision\n",
    "from torchvision.models.detection.faster_rcnn import FastRCNNPredictor\n",
    "from torchvision.transforms import functional as F\n",
    "from PIL import Image\n",
    "import os\n",
    "import numpy as np"
   ]
  },
  {
   "cell_type": "code",
   "execution_count": null,
   "metadata": {},
   "outputs": [],
   "source": [
    "class CustomDataset(torch.utils.data.Dataset):\n",
    "    def __init__(self, root, transforms=None):\n",
    "        self.root = root  # Root directory containing images and labels\n",
    "        self.transforms = transforms  # Optional transformations to apply to the images\n",
    "        self.imgs = list(sorted(os.listdir(os.path.join(root, \"images\"))))  # List of image filenames\n",
    "        self.labels = list(sorted(os.listdir(os.path.join(root, \"labels\"))))  # List of label filenames\n",
    "\n",
    "    def __getitem__(self, idx):\n",
    "        img_path = os.path.join(self.root, \"images\", self.imgs[idx])  # Path to the image\n",
    "        label_path = os.path.join(self.root, \"labels\", self.labels[idx])  # Path to the corresponding label\n",
    "        img = Image.open(img_path).convert(\"RGB\")  # Open the image and convert to RGB\n",
    "        boxes = ...  # Load bounding boxes from label_path\n",
    "        labels = ...  # Load labels from label_path\n",
    "\n",
    "        if self.transforms is not None:\n",
    "            img = self.transforms(img)  # Apply transformations to the image\n",
    "\n",
    "        target = {\"boxes\": boxes, \"labels\": labels}  # Create a target dictionary\n",
    "        return img, target  # Return the image and its target\n",
    "\n",
    "    def __len__(self):\n",
    "        return len(self.imgs)  # Return the number of images in the dataset\n"
   ]
  }
 ],
 "metadata": {
  "kernelspec": {
   "display_name": "base",
   "language": "python",
   "name": "python3"
  },
  "language_info": {
   "codemirror_mode": {
    "name": "ipython",
    "version": 3
   },
   "file_extension": ".py",
   "mimetype": "text/x-python",
   "name": "python",
   "nbconvert_exporter": "python",
   "pygments_lexer": "ipython3",
   "version": "3.10.14"
  }
 },
 "nbformat": 4,
 "nbformat_minor": 2
}
