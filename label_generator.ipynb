{
 "cells": [
  {
   "cell_type": "markdown",
   "metadata": {},
   "source": [
    "Explanation\n",
    "    Directory Traversal:\n",
    "\n",
    "        1. The script traverses the root directory (dataset_path) and lists all subdirectories, which correspond to class names.\n",
    "        2. For each subdirectory (class), it lists all files (images).\n",
    "    Label Assignment:\n",
    "\n",
    "        1. For each image file, it constructs the full path and assigns the class name (subdirectory name) as the label.\n",
    "\n",
    "Label Storage:\n",
    "\n",
    "        1. The labels are stored in a dictionary with the image path as the key and the class name as the value.\n",
    "        2. The dictionary is optionally saved to a JSON file for easy access later.\n",
    "Example Usage\n",
    "Dataset Path: Set the dataset_path variable to the path of your dataset.\n",
    "Run the Script: Execute the script to generate the labels and save them to a JSON file."
   ]
  },
  {
   "cell_type": "code",
   "execution_count": null,
   "metadata": {},
   "outputs": [],
   "source": [
    "import os\n",
    "import json\n",
    "\n",
    "# Define the path to your dataset\n",
    "dataset_path = 'path/to/your/dataset'\n",
    "\n",
    "# Initialize a dictionary to store image paths and their corresponding labels\n",
    "image_labels = {}\n",
    "\n",
    "# Loop over each class directory\n",
    "for class_name in os.listdir(dataset_path):\n",
    "    class_dir = os.path.join(dataset_path, class_name)\n",
    "    \n",
    "    if os.path.isdir(class_dir):  # Ensure it's a directory\n",
    "        for img_name in os.listdir(class_dir):\n",
    "            img_path = os.path.join(class_dir, img_name)\n",
    "            \n",
    "            if os.path.isfile(img_path):  # Ensure it's a file\n",
    "                image_labels[img_path] = class_name\n",
    "\n",
    "# Optionally, save the labels to a JSON file for future use\n",
    "with open('image_labels.json', 'w') as json_file:\n",
    "    json.dump(image_labels, json_file, indent=4)\n",
    "\n",
    "print(\"Labels generated and saved to image_labels.json\")"
   ]
  },
  {
   "cell_type": "markdown",
   "metadata": {},
   "source": [
    "clustering code :- \n"
   ]
  },
  {
   "cell_type": "code",
   "execution_count": null,
   "metadata": {},
   "outputs": [],
   "source": [
    "import os\n",
    "import numpy as np\n",
    "from tensorflow.keras.applications import VGG16\n",
    "from tensorflow.keras.preprocessing.image import load_img, img_to_array\n",
    "from sklearn.cluster import KMeans\n",
    "import matplotlib.pyplot as plt\n",
    "\n",
    "# Parameters\n",
    "image_dir = 'path_to_your_image_directory'\n",
    "img_size = (224, 224)\n",
    "num_clusters = 4\n",
    "\n",
    "# Load pre-trained VGG16 model + higher level layers\n",
    "base_model = VGG16(weights='imagenet', include_top=False, input_shape=(224, 224, 3))\n",
    "\n",
    "# Function to preprocess images\n",
    "def preprocess_image(image_path):\n",
    "    img = load_img(image_path, target_size=img_size)\n",
    "    img = img_to_array(img)\n",
    "    img = np.expand_dims(img, axis=0)\n",
    "    img = img / 255.0  # Normalize to [0, 1]\n",
    "    return img\n",
    "\n",
    "# Load and preprocess images\n",
    "image_paths = [os.path.join(image_dir, f) for f in os.listdir(image_dir) if f.endswith('.jpg')]\n",
    "images = np.vstack([preprocess_image(img_path) for img_path in image_paths])\n",
    "\n",
    "# Extract features using VGG16\n",
    "features = base_model.predict(images)\n",
    "features = features.reshape((features.shape[0], -1))  # Flatten the features\n",
    "\n",
    "# Apply K-Means clustering\n",
    "kmeans = KMeans(n_clusters=num_clusters, random_state=42)\n",
    "kmeans.fit(features)\n",
    "labels = kmeans.labels_\n",
    "\n",
    "# Visualize the clusters\n",
    "for cluster in range(num_clusters):\n",
    "    plt.figure(figsize=(20, 20))\n",
    "    cluster_images = np.array(image_paths)[labels == cluster]\n",
    "    for i, img_path in enumerate(cluster_images[:25]):\n",
    "        plt.subplot(5, 5, i+1)\n",
    "        img = load_img(img_path, target_size=img_size)\n",
    "        plt.imshow(img)\n",
    "        plt.axis('off')\n",
    "    plt.suptitle(f'Cluster {cluster + 1}', size=20)\n",
    "    plt.show()\n"
   ]
  }
 ],
 "metadata": {
  "language_info": {
   "name": "python"
  }
 },
 "nbformat": 4,
 "nbformat_minor": 2
}
