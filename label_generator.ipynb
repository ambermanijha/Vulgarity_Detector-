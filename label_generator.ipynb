{
 "cells": [
  {
   "cell_type": "code",
   "execution_count": null,
   "metadata": {},
   "outputs": [],
   "source": [
    "import os\n",
    "import json\n",
    "\n",
    "# Define the path to your dataset\n",
    "dataset_path = 'path/to/your/dataset'\n",
    "\n",
    "# Initialize a dictionary to store image paths and their corresponding labels\n",
    "image_labels = {}\n",
    "\n",
    "# Loop over each class directory\n",
    "for class_name in os.listdir(dataset_path):\n",
    "    class_dir = os.path.join(dataset_path, class_name)\n",
    "    \n",
    "    if os.path.isdir(class_dir):  # Ensure it's a directory\n",
    "        for img_name in os.listdir(class_dir):\n",
    "            img_path = os.path.join(class_dir, img_name)\n",
    "            \n",
    "            if os.path.isfile(img_path):  # Ensure it's a file\n",
    "                image_labels[img_path] = class_name\n",
    "\n",
    "# Optionally, save the labels to a JSON file for future use\n",
    "with open('image_labels.json', 'w') as json_file:\n",
    "    json.dump(image_labels, json_file, indent=4)\n",
    "\n",
    "print(\"Labels generated and saved to image_labels.json\")"
   ]
  }
 ],
 "metadata": {
  "language_info": {
   "name": "python"
  }
 },
 "nbformat": 4,
 "nbformat_minor": 2
}
